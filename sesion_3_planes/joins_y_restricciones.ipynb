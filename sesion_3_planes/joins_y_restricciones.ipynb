{
 "cells": [
  {
   "cell_type": "markdown",
   "metadata": {
    "application/vnd.databricks.v1+cell": {
     "cellMetadata": {},
     "inputWidgets": {},
     "nuid": "64af193b-9a96-4568-9a84-829815df385d",
     "showTitle": false,
     "tableResultSettingsMap": {},
     "title": ""
    }
   },
   "source": [
    "# Sesión 3 - Cuaderno 4: El Rol de las Restricciones y Conclusiones\n",
    "\n",
    "### **Introducción: Las \"Pistas\" para el Optimizador**\n",
    "\n",
    "A lo largo de esta sesión, hemos visto cómo el optimizador de Spark utiliza estadísticas y la estructura física de los datos (particiones, Z-Ordering) para acelerar las consultas. Sin embargo, hay una última pieza del rompecabezas que le proporciona información invaluable: las **restricciones de integridad referencial** (claves primarias y foráneas).\n",
    "\n",
    "En la Sesión 2, declaramos estas restricciones con la cláusula `NOT ENFORCED`. Esto significa que Delta Lake **no valida activamente** que se cumplan (no rechaza filas que violen la unicidad de una PK), pero sí **registra la relación en sus metadatos**.\n",
    "\n",
    "¿Por qué hacemos esto? Porque le damos \"pistas\" al optimizador Catalyst que puede usar para simplificar los planes de ejecución.\n",
    "\n",
    "**Objetivo:**\n",
    "* Entender cómo las restricciones `NOT ENFORCED` ayudan al optimizador.\n",
    "* Consolidar todo lo aprendido en un ejercicio práctico final.\n",
    "* Resumir las mejores prácticas para el diseño y mantenimiento de tablas."
   ]
  },
  {
   "cell_type": "markdown",
   "metadata": {
    "application/vnd.databricks.v1+cell": {
     "cellMetadata": {},
     "inputWidgets": {},
     "nuid": "a0192a5e-384b-4940-80fa-77b16e6d468a",
     "showTitle": false,
     "tableResultSettingsMap": {},
     "title": ""
    }
   },
   "source": [
    "### **Paso 1: El Efecto de las Claves Primarias y Foráneas**\n",
    "\n",
    "Cuando declaramos una relación PK-FK, le estamos haciendo una promesa al optimizador: \"Te garantizo que por cada fila en la tabla de hechos (ej. `pedidos_silver`), hay como máximo una fila correspondiente en la tabla de dimensión (ej. `usuarios_silver`)\".\n",
    "\n",
    "Incluso si es `NOT ENFORCED`, Catalyst puede usar esta promesa para realizar optimizaciones como la **eliminación de `JOINs` redundantes**.\n",
    "\n",
    "**Escenario:**\n",
    "Imagina una consulta que solo necesita filtrar por un atributo de la dimensión, pero el resultado final no requiere ninguna columna de esa dimensión.\n",
    "\n"
   ]
  },
  {
   "cell_type": "code",
   "execution_count": 0,
   "metadata": {
    "application/vnd.databricks.v1+cell": {
     "cellMetadata": {
      "byteLimit": 2048000,
      "rowLimit": 10000
     },
     "inputWidgets": {},
     "nuid": "08ab75fc-8a7e-4f75-8498-5da172177ab8",
     "showTitle": false,
     "tableResultSettingsMap": {},
     "title": ""
    }
   },
   "outputs": [],
   "source": [
    "# Celda de configuración\n",
    "# Establecemos el contexto de la base de datos para la sesión actual.\n",
    "\n",
    "db_name = \"curso_arquitecturas\"\n",
    "spark.sql(f\"USE {db_name}\")\n",
    "\n",
    "print(f\"Contexto de base de datos activo: '{db_name}'\")"
   ]
  },
  {
   "cell_type": "code",
   "execution_count": 0,
   "metadata": {
    "application/vnd.databricks.v1+cell": {
     "cellMetadata": {
      "byteLimit": 2048000,
      "implicitDf": true,
      "rowLimit": 10000
     },
     "inputWidgets": {},
     "nuid": "7135a6f3-b346-4a1e-b518-729b41028c21",
     "showTitle": false,
     "tableResultSettingsMap": {},
     "title": ""
    }
   },
   "outputs": [],
   "source": [
    "%sql\n",
    "SELECT\n",
    "  p.monto_total\n",
    "FROM pedidos_silver p\n",
    "JOIN usuarios_silver u\n",
    "  ON p.id_usuario = u.id_usuario\n",
    "WHERE p.id_usuario = 1025;"
   ]
  },
  {
   "cell_type": "code",
   "execution_count": 0,
   "metadata": {
    "application/vnd.databricks.v1+cell": {
     "cellMetadata": {},
     "inputWidgets": {},
     "nuid": "f1196671-4a69-42c6-955c-9d9c08a4242c",
     "showTitle": false,
     "tableResultSettingsMap": {},
     "title": ""
    }
   },
   "outputs": [],
   "source": [
    "%sql\n",
    "-- Queremos el monto total de los pedidos realizados por el usuario 1025.\n",
    "-- No necesitamos el nombre del usuario, solo su ID para filtrar.\n",
    "EXPLAIN SELECT\n",
    "  p.monto_total\n",
    "FROM pedidos_silver p\n",
    "JOIN usuarios_silver u\n",
    "  ON p.id_usuario = u.id_usuario\n",
    "WHERE p.id_usuario = 1025;"
   ]
  },
  {
   "cell_type": "code",
   "execution_count": 0,
   "metadata": {
    "application/vnd.databricks.v1+cell": {
     "cellMetadata": {
      "byteLimit": 2048000,
      "implicitDf": true,
      "rowLimit": 10000
     },
     "inputWidgets": {},
     "nuid": "323aaeed-ce86-4f78-9f16-f30d4535e6a6",
     "showTitle": false,
     "tableResultSettingsMap": {},
     "title": ""
    }
   },
   "outputs": [],
   "source": [
    "%sql\n",
    "SELECT\n",
    "  p.monto_total\n",
    "FROM pedidos_silver p\n",
    "JOIN usuarios_silver u\n",
    "  ON p.id_usuario = u.id_usuario\n",
    "WHERE u.id_usuario = 1025;"
   ]
  },
  {
   "cell_type": "markdown",
   "metadata": {
    "application/vnd.databricks.v1+cell": {
     "cellMetadata": {},
     "inputWidgets": {},
     "nuid": "ffaaa7e1-0de1-4ce0-8dc7-7aab766c1d86",
     "showTitle": false,
     "tableResultSettingsMap": {},
     "title": ""
    }
   },
   "source": [
    "**Análisis del Plan:**\n",
    "En un escenario sin restricciones, Spark podría realizar el `JOIN` innecesariamente. Sin embargo, al tener la restricción PK-FK, el optimizador puede razonar: \"El `JOIN` con `usuarios_silver` no añade ni elimina filas de `pedidos_silver` debido a la relación 1 a N, y como no se necesita ninguna columna de `usuarios_silver` en el resultado, **puedo eliminar el `JOIN` por completo**\".\n",
    "\n",
    "El plan físico resultante será mucho más simple, mostrando solo un `Scan` sobre `pedidos_silver` con el filtro aplicado, ignorando por completo la tabla `usuarios_silver`."
   ]
  },
  {
   "cell_type": "markdown",
   "metadata": {
    "application/vnd.databricks.v1+cell": {
     "cellMetadata": {},
     "inputWidgets": {},
     "nuid": "5e711715-502f-40f2-bcdd-fa3fb7c4889d",
     "showTitle": false,
     "tableResultSettingsMap": {},
     "title": ""
    }
   },
   "source": [
    "### **Paso 2: El Ingrediente Secreto - Las Estadísticas de la Tabla**\n",
    "\n",
    "Todas las decisiones inteligentes que hemos visto tomar a Catalyst (elegir un `BroadcastHashJoin` sobre un `SortMergeJoin`, realizar `file skipping` con Z-Ordering) dependen de un ingrediente crucial: **información precisa y actualizada sobre los datos**.\n",
    "\n",
    "Aquí es donde entra el comando `ANALYZE TABLE`.\n",
    "\n",
    "* **¿Qué hace?** `ANALYZE TABLE` escanea la tabla y recolecta metadatos detallados (estadísticas) sobre los datos. Esto incluye:\n",
    "    * Número total de filas.\n",
    "    * Tamaño de la tabla en bytes.\n",
    "    * Para cada columna: valores mínimos y máximos, número de valores nulos, número de valores distintos, histogramas de distribución, etc.\n",
    "* **¿Por qué es importante?** Estas estadísticas alimentan el **Modelo de Costos** del optimizador. Con estadísticas precisas, Catalyst puede tomar decisiones casi perfectas. Sin ellas, tiene que recurrir a estimaciones, lo que puede llevar a planes de ejecución subóptimos.\n",
    "\n"
   ]
  },
  {
   "cell_type": "code",
   "execution_count": 0,
   "metadata": {
    "application/vnd.databricks.v1+cell": {
     "cellMetadata": {
      "byteLimit": 2048000,
      "implicitDf": true,
      "rowLimit": 10000
     },
     "inputWidgets": {},
     "nuid": "a3bea5e3-b9fc-47b9-a121-cc40255c54fb",
     "showTitle": false,
     "tableResultSettingsMap": {},
     "title": ""
    }
   },
   "outputs": [],
   "source": [
    "%sql\n",
    "-- Así se recolectan las estadísticas para una tabla\n",
    "ANALYZE TABLE pedidos_silver COMPUTE STATISTICS FOR ALL COLUMNS\n"
   ]
  },
  {
   "cell_type": "markdown",
   "metadata": {
    "application/vnd.databricks.v1+cell": {
     "cellMetadata": {},
     "inputWidgets": {},
     "nuid": "04591d61-3209-4b2b-903e-4f91b144e5de",
     "showTitle": false,
     "tableResultSettingsMap": {},
     "title": ""
    }
   },
   "source": [
    "**Regla de Oro:** Ejecuta `ANALYZE TABLE` después de cargas de datos masivas o modificaciones significativas en una tabla para asegurar que el optimizador siempre trabaje con la información más reciente."
   ]
  },
  {
   "cell_type": "code",
   "execution_count": 0,
   "metadata": {
    "application/vnd.databricks.v1+cell": {
     "cellMetadata": {
      "byteLimit": 2048000,
      "implicitDf": true,
      "rowLimit": 10000
     },
     "inputWidgets": {},
     "nuid": "cdcacd62-be90-4799-a51a-9750cc0aa899",
     "showTitle": false,
     "tableResultSettingsMap": {},
     "title": ""
    }
   },
   "outputs": [],
   "source": [
    "%sql DESCRIBE EXTENDED pedidos_silver"
   ]
  },
  {
   "cell_type": "markdown",
   "metadata": {
    "application/vnd.databricks.v1+cell": {
     "cellMetadata": {},
     "inputWidgets": {},
     "nuid": "00ef3a59-dc77-4329-a5c0-010c76187e63",
     "showTitle": false,
     "tableResultSettingsMap": {},
     "title": ""
    }
   },
   "source": [
    "### **Paso 3: Resumen de Mejores Prácticas de Optimización**\n",
    "\n",
    "Aquí tienes una guía de referencia rápida para mantener tus tablas Delta Lake funcionando al máximo rendimiento.\n",
    "\n",
    "| Práctica | Comando | Cuándo Usarlo | Beneficio Principal |\n",
    "| :--- | :--- | :--- | :--- |\n",
    "| **Particionamiento** | `PARTITIONED BY (col)` | Durante la creación de la tabla. | **Directory Skipping**. Ideal para columnas de baja cardinalidad como fechas. |\n",
    "| **Z-Ordering** | `OPTIMIZE ... ZORDER BY (cols)` | Periódicamente, después de cargas de datos. | **File Skipping**. Ideal para columnas de alta cardinalidad usadas en filtros (`id_usuario`). |\n",
    "| **Compactación** | `OPTIMIZE table_name` | Periódicamente, si hay muchos archivos pequeños. | Fusiona archivos pequeños en grandes, acelerando las lecturas. |\n",
    "| **Actualizar Estadísticas** | `ANALYZE TABLE ...` | Después de cargas o modificaciones importantes. | Alimenta al optimizador para que tome las mejores decisiones. |\n",
    "| **Limpieza** | `VACUUM table_name` | Periódicamente (a menudo automatizado). | Elimina archivos antiguos que ya no son referenciados por el log de transacciones. |"
   ]
  },
  {
   "cell_type": "markdown",
   "metadata": {
    "application/vnd.databricks.v1+cell": {
     "cellMetadata": {},
     "inputWidgets": {},
     "nuid": "db3d3f24-f315-41d3-8790-555bb851c8c7",
     "showTitle": false,
     "tableResultSettingsMap": {},
     "title": ""
    }
   },
   "source": [
    "### **Paso 4: Ejercicio Final - Optimizando una Consulta de Negocio**\n",
    "\n",
    "Es hora de aplicar todo lo que hemos aprendido. El equipo de negocio necesita un reporte de **los 5 productos más devueltos por clientes de la ciudad 'Madrid' durante la primera semana de Febrero de 2023.**\n",
    "\n",
    "Aquí tienes una primera versión de la consulta:"
   ]
  },
  {
   "cell_type": "code",
   "execution_count": 0,
   "metadata": {
    "application/vnd.databricks.v1+cell": {
     "cellMetadata": {
      "byteLimit": 2048000,
      "implicitDf": true,
      "rowLimit": 10000
     },
     "inputWidgets": {},
     "nuid": "ccfe1afc-002c-462f-81d5-5e1fec89065f",
     "showTitle": false,
     "tableResultSettingsMap": {},
     "title": ""
    }
   },
   "outputs": [],
   "source": [
    "%sql\n",
    "-- Versión 1: Consulta sin optimizar\n",
    "EXPLAIN EXTENDED SELECT\n",
    "  prod.nombre_producto,\n",
    "  COUNT(*) AS total_devoluciones\n",
    "FROM devoluciones_silver AS dev\n",
    "JOIN pedidos_silver_partitioned_user AS ped\n",
    "  ON dev.id_pedido = ped.id_pedido\n",
    "JOIN usuarios_silver AS u\n",
    "  ON ped.id_usuario = u.id_usuario\n",
    "JOIN productos_silver AS prod\n",
    "  ON ped.id_producto = prod.id_producto\n",
    "WHERE\n",
    "  u.ciudad = 'Madrid'\n",
    "GROUP BY\n",
    "  prod.nombre_producto\n",
    "ORDER BY\n",
    "  total_devoluciones DESC\n",
    "LIMIT 5000;\n"
   ]
  },
  {
   "cell_type": "code",
   "execution_count": 0,
   "metadata": {
    "application/vnd.databricks.v1+cell": {
     "cellMetadata": {
      "byteLimit": 2048000,
      "implicitDf": true,
      "rowLimit": 10000
     },
     "inputWidgets": {},
     "nuid": "4433ef64-3e63-4e0c-9f18-f098b3d741c1",
     "showTitle": false,
     "tableResultSettingsMap": {},
     "title": ""
    }
   },
   "outputs": [],
   "source": [
    "%sql\n",
    "SELECT\n",
    "  prod.nombre_producto,\n",
    "  COUNT(*) AS total_devoluciones\n",
    "FROM devoluciones_silver AS dev\n",
    "JOIN pedidos_silver_partitioned_user AS ped\n",
    "  ON dev.id_pedido = ped.id_pedido\n",
    "JOIN usuarios_silver AS u\n",
    "  ON ped.id_usuario = u.id_usuario\n",
    "JOIN productos_silver AS prod\n",
    "  ON ped.id_producto = prod.id_producto\n",
    "WHERE\n",
    "  u.ciudad = 'Madrid'\n",
    "GROUP BY\n",
    "  prod.nombre_producto\n",
    "ORDER BY\n",
    "  total_devoluciones DESC\n",
    "LIMIT 5000;"
   ]
  },
  {
   "cell_type": "markdown",
   "metadata": {
    "application/vnd.databricks.v1+cell": {
     "cellMetadata": {},
     "inputWidgets": {},
     "nuid": "5b5c3117-f1cb-4384-b707-b15c2320660d",
     "showTitle": false,
     "tableResultSettingsMap": {},
     "title": ""
    }
   },
   "source": [
    "\n",
    "\n",
    "**Tu Tarea:**\n",
    "\n",
    "1.  **Analiza el Plan:** Ejecuta `EXPLAIN` sobre la consulta anterior. ¿Identificas algún problema? Fíjate bien si las tablas de hechos (`devoluciones_silver`, `pedidos_silver`) están siendo escaneadas por completo (sin `PartitionFilters`).\n",
    "2.  **Reescribe la Consulta:** Modifica la consulta para aplicar las mejores prácticas. **Pista:** La solicitud de negocio contiene un filtro de fecha crucial (`primera semana de Febrero de 2023`). ¿Puedes añadirlo al `WHERE` para aprovechar el particionamiento de las tablas de hechos?\n",
    "3.  **Verifica la Mejora:** Ejecuta `EXPLAIN` sobre tu nueva consulta optimizada. Compara el plan físico con el anterior. ¿Aparecen ahora los `PartitionFilters` en el escaneo de las tablas de hechos?"
   ]
  }
 ],
 "metadata": {
  "application/vnd.databricks.v1+notebook": {
   "computePreferences": null,
   "dashboards": [],
   "environmentMetadata": {
    "base_environment": "",
    "environment_version": "2"
   },
   "inputWidgetPreferences": null,
   "language": "python",
   "notebookMetadata": {
    "mostRecentlyExecutedCommandWithImplicitDF": {
     "commandId": 5140208568373853,
     "dataframes": [
      "_sqldf"
     ]
    },
    "pythonIndentUnit": 4
   },
   "notebookName": "joins_y_restricciones",
   "widgets": {}
  },
  "language_info": {
   "name": "python"
  }
 },
 "nbformat": 4,
 "nbformat_minor": 0
}
