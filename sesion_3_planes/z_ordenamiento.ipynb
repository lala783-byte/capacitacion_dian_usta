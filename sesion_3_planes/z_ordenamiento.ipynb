{
 "cells": [
  {
   "cell_type": "markdown",
   "metadata": {
    "application/vnd.databricks.v1+cell": {
     "cellMetadata": {},
     "inputWidgets": {},
     "nuid": "a254d880-665d-41bf-a5aa-76f33034be95",
     "showTitle": false,
     "tableResultSettingsMap": {},
     "title": ""
    }
   },
   "source": [
    "# Sesión 3 - Cuaderno 3: El Impacto del Z-Ordering\n",
    "\n",
    "### **Introducción: Más Allá del Particionamiento**\n",
    "\n",
    "En el cuaderno anterior, demostramos de manera concluyente que el **particionamiento** es una herramienta extremadamente eficaz para eliminar grandes volúmenes de datos irrelevantes a nivel de directorio. Si lo imaginamos como un archivador físico, el particionamiento es como organizar nuestros documentos en cajones separados por año. Si buscamos un informe de 2023, ignoramos por completo los cajones de 2022, 2021, etc.\n",
    "\n",
    "Sin embargo, ¿qué pasa cuando abrimos el cajón de \"2023\" y necesitamos encontrar todas las facturas de un cliente específico, `id_usuario = 1025`? Si los documentos dentro del cajón están desordenados, no tenemos más remedio que revisar cada uno de ellos. Este es el límite del particionamiento.\n",
    "\n",
    "Particionar por columnas de **alta cardinalidad** (muchos valores únicos) como `id_usuario` sería un desastre. Sería como tener un cajón para cada cliente, resultando en miles de cajones pequeños y vacíos, lo que ralentizaría enormemente el sistema (el conocido \"small files problem\").\n",
    "\n",
    "Aquí es donde entra en juego nuestra segunda decisión de diseño de la Sesión 2: **Z-Ordering**.\n",
    "\n",
    "### **¿Qué es Z-Ordering? La Organización Interna**\n",
    "\n",
    "El Z-Ordering es una técnica que organiza los datos *dentro* de cada partición (o dentro de cada \"cajón\" de nuestro archivador). Agrupa los valores relacionados de las columnas especificadas (`id_usuario`, `id_producto`) para que estén físicamente juntos en los mismos archivos de datos.\n",
    "\n",
    "Técnicamente, lo logra mapeando los valores de múltiples columnas en una única dimensión usando una [curva de orden Z](https://es.wikipedia.org/wiki/Curva_de_orden_Z), lo que tiende a mantener la localidad de los puntos de datos.\n",
    "\n",
    "Delta Lake aprovecha esto manteniendo estadísticas (valores mínimos y máximos) para estas columnas en los metadatos de cada archivo. Cuando ejecutamos una consulta que filtra por una de estas columnas, Spark puede consultar estas estadísticas y **saltarse archivos enteros** que sabe que no contienen los datos que buscamos. Es el equivalente a tener los documentos dentro del cajón \"2023\" perfectamente ordenados por cliente.\n",
    "\n",
    "**Objetivo:** En este cuaderno, vamos a:\n",
    "* Comparar el rendimiento de una consulta en una tabla solo particionada frente a una tabla particionada y optimizada con Z-Ordering.\n",
    "* Aprender a identificar la evidencia del **\"file skipping\"** (omisión de archivos) en las métricas de ejecución de una consulta."
   ]
  },
  {
   "cell_type": "markdown",
   "metadata": {
    "application/vnd.databricks.v1+cell": {
     "cellMetadata": {},
     "inputWidgets": {},
     "nuid": "9275319a-917a-4994-81b5-d510785cdd94",
     "showTitle": false,
     "tableResultSettingsMap": {},
     "title": ""
    }
   },
   "source": [
    "### **Paso 1: Preparación del Entorno y las Tablas de Prueba**\n",
    "\n",
    "Para realizar una comparación justa y científicamente válida, necesitamos aislar la variable que queremos medir: el efecto del Z-Ordering. Para ello, crearemos un entorno de prueba con dos tablas:\n",
    "\n",
    "1.  **`pedidos_silver_partitioned`**: Nuestra tabla de **control**. Es una copia de los datos que solo está particionada por fecha.\n",
    "2.  **`pedidos_silver`**: Nuestra tabla **optimizada**, que está particionada por fecha y además tiene aplicado el Z-Ordering sobre `id_usuario` y `id_producto`.\n",
    "\n",
    "Este enfoque nos permitirá ejecutar la misma consulta en ambas tablas y atribuir cualquier diferencia en el rendimiento directamente al efecto del Z-Ordering."
   ]
  },
  {
   "cell_type": "code",
   "execution_count": 0,
   "metadata": {
    "application/vnd.databricks.v1+cell": {
     "cellMetadata": {
      "byteLimit": 2048000,
      "implicitDf": true,
      "rowLimit": 10000
     },
     "inputWidgets": {},
     "nuid": "9a5c926c-0f87-47fb-9a35-2edbead36678",
     "showTitle": false,
     "tableResultSettingsMap": {},
     "title": ""
    }
   },
   "outputs": [],
   "source": [
    "%sql\n",
    "-- Establecemos el contexto de la base de datos\n",
    "USE curso_arquitecturas;\n",
    "\n",
    "CREATE OR REPLACE TABLE pedidos_silver_partitioned\n",
    "PARTITIONED BY (id_fecha)\n",
    "AS SELECT * FROM pedidos_silver;"
   ]
  },
  {
   "cell_type": "markdown",
   "metadata": {
    "application/vnd.databricks.v1+cell": {
     "cellMetadata": {},
     "inputWidgets": {},
     "nuid": "5df5256c-8f42-4c56-a289-ad4c74effa21",
     "showTitle": false,
     "tableResultSettingsMap": {},
     "title": ""
    }
   },
   "source": [
    "### **Paso 2: El Escenario \"Antes\" - Filtrado en una Tabla Solo Particionada**\n",
    "\n",
    "Ahora, ejecutemos una consulta que filtre por un `id_usuario` específico en nuestra tabla de control, la que **no** tiene Z-Ordering. Para aislar el efecto, nos centraremos en una sola partición de fecha.\n",
    "\n",
    "**Importante:** A diferencia del particionamiento, el beneficio del Z-Ordering **no es visible en el plan `EXPLAIN`**. El planificador de Spark sabe que va a realizar un `FileScan` en ambos casos, pero es el **motor de ejecución en tiempo real** el que utiliza las estadísticas de Z-Ordering para decidir qué archivos leer. Por lo tanto, la prueba no está en el plan, sino en las **métricas de ejecución** (cuántos archivos se leyeron realmente)."
   ]
  },
  {
   "cell_type": "code",
   "execution_count": 0,
   "metadata": {
    "application/vnd.databricks.v1+cell": {
     "cellMetadata": {
      "byteLimit": 2048000,
      "implicitDf": true,
      "rowLimit": 10000
     },
     "inputWidgets": {},
     "nuid": "ab79b18d-6233-4969-b719-e301a58d3623",
     "showTitle": false,
     "tableResultSettingsMap": {},
     "title": ""
    }
   },
   "outputs": [],
   "source": [
    "%sql\n",
    "-- Ejecutamos la consulta para ver sus métricas de ejecución\n",
    "SELECT *\n",
    "FROM pedidos_silver_partitioned\n",
    "WHERE id_fecha = '2025-04-13' AND id_usuario = 8368;"
   ]
  },
  {
   "cell_type": "code",
   "execution_count": 0,
   "metadata": {
    "application/vnd.databricks.v1+cell": {
     "cellMetadata": {
      "byteLimit": 2048000,
      "implicitDf": true,
      "rowLimit": 10000
     },
     "inputWidgets": {},
     "nuid": "9922e1b9-6124-4d0b-8d3b-4f2dabea66f6",
     "showTitle": false,
     "tableResultSettingsMap": {},
     "title": ""
    }
   },
   "outputs": [],
   "source": [
    "%sql\n",
    "SELECT *\n",
    "FROM pedidos_silver_partitioned\n",
    "WHERE id_fecha = '2025-04-13';"
   ]
  },
  {
   "cell_type": "code",
   "execution_count": 0,
   "metadata": {
    "application/vnd.databricks.v1+cell": {
     "cellMetadata": {
      "byteLimit": 2048000,
      "implicitDf": true,
      "rowLimit": 10000
     },
     "inputWidgets": {},
     "nuid": "edd2b195-cfc4-4172-a05d-8a9f93ea9817",
     "showTitle": false,
     "tableResultSettingsMap": {},
     "title": ""
    }
   },
   "outputs": [],
   "source": [
    "%sql\n",
    "SELECT *\n",
    "FROM pedidos_silver\n",
    "WHERE id_fecha = '2025-04-13';"
   ]
  },
  {
   "cell_type": "code",
   "execution_count": 0,
   "metadata": {
    "application/vnd.databricks.v1+cell": {
     "cellMetadata": {
      "byteLimit": 2048000,
      "implicitDf": true,
      "rowLimit": 10000
     },
     "inputWidgets": {},
     "nuid": "32d24425-4e6f-4c48-a57c-3ed578efd84e",
     "showTitle": false,
     "tableResultSettingsMap": {},
     "title": ""
    }
   },
   "outputs": [],
   "source": [
    "%sql\n",
    "EXPLAIN SELECT *\n",
    "FROM pedidos_silver_partitioned\n",
    "WHERE id_fecha = '2025-04-13';"
   ]
  },
  {
   "cell_type": "markdown",
   "metadata": {
    "application/vnd.databricks.v1+cell": {
     "cellMetadata": {},
     "inputWidgets": {},
     "nuid": "c0d8b9dd-7a22-4f62-a7cd-3d28587da313",
     "showTitle": false,
     "tableResultSettingsMap": {},
     "title": ""
    }
   },
   "source": [
    "### **Paso 4: El Escenario \"Después\" - Filtrado en una Tabla con Z-Ordering**\n",
    "\n",
    "Ahora, ejecutemos la **exactamente la misma consulta**, pero esta vez sobre nuestra tabla original `pedidos_silver`, la cual fue optimizada con `ZORDER BY (id_usuario, id_producto)`."
   ]
  },
  {
   "cell_type": "code",
   "execution_count": 0,
   "metadata": {
    "application/vnd.databricks.v1+cell": {
     "cellMetadata": {
      "byteLimit": 2048000,
      "implicitDf": true,
      "rowLimit": 10000
     },
     "inputWidgets": {},
     "nuid": "bba00bdb-cf89-40b6-91a4-eaf2cd6fb67b",
     "showTitle": false,
     "tableResultSettingsMap": {},
     "title": ""
    }
   },
   "outputs": [],
   "source": [
    "%sql\n",
    "-- Ejecutamos la misma consulta en la tabla optimizada\n",
    "EXPLAIN SELECT *\n",
    "FROM pedidos_silver -- Esta es nuestra tabla original, con Z-Ordering\n",
    "WHERE id_usuario = '2025-04-13' ;"
   ]
  },
  {
   "cell_type": "code",
   "execution_count": 0,
   "metadata": {
    "application/vnd.databricks.v1+cell": {
     "cellMetadata": {
      "byteLimit": 2048000,
      "implicitDf": true,
      "rowLimit": 10000
     },
     "inputWidgets": {},
     "nuid": "5c1002b0-f6e4-4fa0-9f60-9738cc083c4b",
     "showTitle": false,
     "tableResultSettingsMap": {},
     "title": ""
    }
   },
   "outputs": [],
   "source": [
    "%sql\n",
    "-- Ejecutamos la misma consulta en la tabla optimizada\n",
    "SELECT *\n",
    "FROM pedidos_silver -- Esta es nuestra tabla original, con Z-Ordering\n",
    "WHERE id_fecha = '2025-04-13' ;"
   ]
  },
  {
   "cell_type": "code",
   "execution_count": 0,
   "metadata": {
    "application/vnd.databricks.v1+cell": {
     "cellMetadata": {
      "byteLimit": 2048000,
      "implicitDf": true,
      "rowLimit": 10000
     },
     "inputWidgets": {},
     "nuid": "9f46749b-d2dd-44fc-b825-e4035c481447",
     "showTitle": false,
     "tableResultSettingsMap": {},
     "title": ""
    }
   },
   "outputs": [],
   "source": [
    "%sql\n",
    "-- Ejecutamos la misma consulta en la tabla optimizada\n",
    "SELECT *\n",
    "FROM pedidos_silver -- Esta es nuestra tabla original, con Z-Ordering\n",
    "WHERE id_fecha < '2025-04-14' ;"
   ]
  },
  {
   "cell_type": "code",
   "execution_count": 0,
   "metadata": {
    "application/vnd.databricks.v1+cell": {
     "cellMetadata": {
      "byteLimit": 2048000,
      "implicitDf": true,
      "rowLimit": 10000
     },
     "inputWidgets": {},
     "nuid": "ed9519e9-d25e-423c-9c4d-a2bf6c51f141",
     "showTitle": false,
     "tableResultSettingsMap": {},
     "title": ""
    }
   },
   "outputs": [],
   "source": [
    "%sql\n",
    "CREATE OR REPLACE TABLE pedidos_silver_partitioned_user\n",
    "PARTITIONED BY (id_usuario)\n",
    "AS SELECT * FROM pedidos_silver;"
   ]
  },
  {
   "cell_type": "code",
   "execution_count": 0,
   "metadata": {
    "application/vnd.databricks.v1+cell": {
     "cellMetadata": {
      "byteLimit": 2048000,
      "implicitDf": true,
      "rowLimit": 10000
     },
     "inputWidgets": {},
     "nuid": "f0b60891-be27-466e-891f-099f0e5aac16",
     "showTitle": false,
     "tableResultSettingsMap": {},
     "title": ""
    }
   },
   "outputs": [],
   "source": [
    "%sql\n",
    "CREATE OR REPLACE TABLE pedidos_silver_orderer_user\n",
    "AS SELECT * FROM pedidos_silver;\n",
    "OPTIMIZE pedidos_silver_orderer_user ZORDER BY (id_usuario, id_pedido, id_fecha)"
   ]
  },
  {
   "cell_type": "code",
   "execution_count": 0,
   "metadata": {
    "application/vnd.databricks.v1+cell": {
     "cellMetadata": {
      "byteLimit": 2048000,
      "implicitDf": true,
      "rowLimit": 10000
     },
     "inputWidgets": {},
     "nuid": "b91c2d87-5569-403b-aea3-4111f327af70",
     "showTitle": false,
     "tableResultSettingsMap": {},
     "title": ""
    }
   },
   "outputs": [],
   "source": [
    "%sql\n",
    "SELECT * FROM pedidos_silver_partitioned_user\n",
    "WHERE id_usuario = 8369;\n",
    "    \n"
   ]
  },
  {
   "cell_type": "code",
   "execution_count": 0,
   "metadata": {
    "application/vnd.databricks.v1+cell": {
     "cellMetadata": {
      "byteLimit": 2048000,
      "implicitDf": true,
      "rowLimit": 10000
     },
     "inputWidgets": {},
     "nuid": "9aa000d4-c7b9-454d-8470-9a043641ebdc",
     "showTitle": false,
     "tableResultSettingsMap": {},
     "title": ""
    }
   },
   "outputs": [],
   "source": [
    "%sql\n",
    "SELECT * FROM pedidos_silver_orderer_user\n",
    "WHERE id_usuario = 8369;"
   ]
  },
  {
   "cell_type": "code",
   "execution_count": 0,
   "metadata": {
    "application/vnd.databricks.v1+cell": {
     "cellMetadata": {
      "byteLimit": 2048000,
      "implicitDf": true,
      "rowLimit": 10000
     },
     "inputWidgets": {},
     "nuid": "0e8ab806-69e6-48e7-b867-7954706951e3",
     "showTitle": false,
     "tableResultSettingsMap": {},
     "title": ""
    }
   },
   "outputs": [],
   "source": [
    "%sql\n",
    "SELECT * FROM pedidos_silver_orderer_user\n",
    "WHERE id_usuario > 8368 and id_usuario < 8370;"
   ]
  },
  {
   "cell_type": "code",
   "execution_count": 0,
   "metadata": {
    "application/vnd.databricks.v1+cell": {
     "cellMetadata": {
      "byteLimit": 2048000,
      "implicitDf": true,
      "rowLimit": 10000
     },
     "inputWidgets": {},
     "nuid": "3bfbafdf-6fc2-4761-96f9-3d53eb3f6512",
     "showTitle": false,
     "tableResultSettingsMap": {},
     "title": ""
    }
   },
   "outputs": [],
   "source": [
    "%sql\n",
    "SELECT * FROM pedidos_silver_orderer_user\n",
    "WHERE id_usuario >= 8369;"
   ]
  },
  {
   "cell_type": "markdown",
   "metadata": {
    "application/vnd.databricks.v1+cell": {
     "cellMetadata": {},
     "inputWidgets": {},
     "nuid": "81c5ab08-e85e-470d-bd4e-ce32d110b26c",
     "showTitle": false,
     "tableResultSettingsMap": {},
     "title": ""
    }
   },
   "source": [
    "### **Paso 5: Análisis de las Métricas (Con Z-Ordering)**\n",
    "\n",
    "Inspecciona de nuevo las métricas de ejecución de esta segunda consulta de la misma manera que antes.\n",
    "\n",
    "* **Resultado Esperado:** Verás que el número de **`files read` es drásticamente menor**. Siguiendo nuestro ejemplo, en lugar de leer 20 archivos, es posible que ahora solo lea 1 o 2.\n",
    "* **¿Por qué? ¡Aquí está la magia del Z-Ordering en acción!**\n",
    "    1.  **Partition Pruning:** Spark primero usó el filtro de partición para ir directamente al directorio `'2024-06-12'`, ignorando todos los demás días.\n",
    "    2.  **File Pruning (Data Skipping):** Luego, antes de abrir cualquier archivo, consultó los metadatos de Delta Lake. Estos metadatos contienen las estadísticas (valores mínimos y máximos) de `id_usuario` para cada uno de los 20 archivos dentro de esa partición.\n",
    "    3.  Rápidamente descartó todos los archivos cuyo rango de `id_usuario` no contenía el valor `2244;`. Por ejemplo, si un archivo contiene usuarios del `1000` al `1020` y otro del `1030` al `1050`, Spark sabe que no necesita abrirlos.\n",
    "    4.  Finalmente, solo leyó el pequeño subconjunto de archivos que sí podían contener los datos, ahorrando una cantidad masiva de operaciones de I/O."
   ]
  }
 ],
 "metadata": {
  "application/vnd.databricks.v1+notebook": {
   "computePreferences": null,
   "dashboards": [],
   "environmentMetadata": {
    "base_environment": "",
    "environment_version": "2"
   },
   "inputWidgetPreferences": null,
   "language": "python",
   "notebookMetadata": {
    "mostRecentlyExecutedCommandWithImplicitDF": {
     "commandId": 5140208568373847,
     "dataframes": [
      "_sqldf"
     ]
    },
    "pythonIndentUnit": 4
   },
   "notebookName": "z_ordenamiento",
   "widgets": {}
  },
  "language_info": {
   "name": "python"
  }
 },
 "nbformat": 4,
 "nbformat_minor": 0
}
