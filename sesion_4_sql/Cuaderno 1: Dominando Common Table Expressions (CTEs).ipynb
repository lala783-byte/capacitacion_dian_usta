{
 "cells": [
  {
   "cell_type": "markdown",
   "metadata": {
    "application/vnd.databricks.v1+cell": {
     "cellMetadata": {},
     "inputWidgets": {},
     "nuid": "3ac9a288-0e2f-4141-965c-116bbd6bc8b2",
     "showTitle": false,
     "tableResultSettingsMap": {},
     "title": ""
    }
   },
   "source": [
    "### **Cuaderno: Módulo 1 - Dominando Common Table Expressions (CTEs)**\n",
    "\n",
    "\n",
    "**Objetivo del Módulo:** Al finalizar este cuaderno, el participante podrá refactorizar consultas complejas, transformándolas en CTEs limpios y modulares. Entenderá cómo esta técnica mejora la legibilidad, facilita la depuración y previene errores comunes, sentando las bases para escribir SQL de nivel profesional.\n",
    "\n",
    "-----"
   ]
  },
  {
   "cell_type": "markdown",
   "metadata": {
    "application/vnd.databricks.v1+cell": {
     "cellMetadata": {},
     "inputWidgets": {},
     "nuid": "a9767cb7-321b-4f94-af3a-0f371251c667",
     "showTitle": false,
     "tableResultSettingsMap": {},
     "title": ""
    }
   },
   "source": [
    "### **Introducción al Módulo**\n",
    "\n",
    "En este primer módulo, se aborda un desafío común en SQL: el \"infierno de las subconsultas anidadas\". Se presentará una técnica fundamental del SQL moderno, las **Common Table Expressions (CTEs)**, para transformar consultas complejas y difíciles de mantener en una lógica de negocio clara, secuencial y robusta. El objetivo es que el participante aprenda a estructurar su pensamiento y su código de una manera más profesional y escalable.\n",
    "\n",
    "-----\n",
    "\n",
    "### **El Escenario: Preparación de los Datos**\n",
    "\n",
    "Todo análisis comienza con los datos. El primer paso consiste en simular un ecosistema de e-commerce realista. El siguiente script de Python genera un conjunto de DataFrames en memoria que representan las entidades de negocio: usuarios, productos y pedidos.\n",
    "\n",
    "**Acción:** Se ejecuta esta celda para crear los DataFrames iniciales. La semilla (`SEED`) asegura que los datos generados sean siempre los mismos, garantizando la reproducibilidad del taller.\n"
   ]
  },
  {
   "cell_type": "code",
   "execution_count": 0,
   "metadata": {
    "application/vnd.databricks.v1+cell": {
     "cellMetadata": {
      "byteLimit": 2048000,
      "rowLimit": 10000
     },
     "inputWidgets": {},
     "nuid": "52978fba-afc5-444c-abb3-90575a2b6a09",
     "showTitle": false,
     "tableResultSettingsMap": {},
     "title": ""
    }
   },
   "outputs": [],
   "source": [
    "# Script para generar un conjunto de datos de e-commerce enriquecido\n",
    "from pyspark.sql import SparkSession\n",
    "from faker import Faker\n",
    "import random\n",
    "from datetime import datetime, timedelta\n",
    "\n",
    "# --- SEMILLA PARA REPRODUCIBILIDAD ---\n",
    "# Garantiza que los datos generados sean siempre los mismos en cada ejecución.\n",
    "SEED = 2025\n",
    "Faker.seed(SEED)\n",
    "random.seed(SEED)\n",
    "\n",
    "# Inicializar Faker para generar datos en español\n",
    "fake = Faker('es_ES')\n",
    "\n",
    "# --- DEFINICIÓN DE FUNCIONES PARA GENERAR DATOS ---\n",
    "def generar_usuarios(n=1000):\n",
    "    \"\"\"Genera una lista de diccionarios de usuarios.\"\"\"\n",
    "    return [{'id_usuario': 1000 + i, 'nombre': fake.name(), 'email': fake.email(), 'fecha_registro': fake.date_time_between(start_date='-2y'), 'ciudad': fake.city()} for i in range(n)]\n",
    "\n",
    "def generar_productos(n=500):\n",
    "    \"\"\"Genera una lista de productos.\"\"\"\n",
    "    categorias = ['Electrónica', 'Hogar', 'Ropa', 'Libros', 'Deportes', 'Juguetes', 'Alimentos']\n",
    "    data = []\n",
    "    for i in range(n):\n",
    "        data.append({\n",
    "            'id_producto': 2000 + i,\n",
    "            'nombre_producto': fake.word().capitalize() + \" \" + fake.word(),\n",
    "            'categoria': random.choice(categorias),\n",
    "            'precio_unitario': round(random.uniform(5.0, 350.0), 2) # Ojo: PySpark inferirá esto como DoubleType\n",
    "        })\n",
    "    return data\n",
    "\n",
    "def generar_pedidos(usuarios, productos, n=10000):\n",
    "    \"\"\"Genera una lista de pedidos, vinculando usuarios y productos.\"\"\"\n",
    "    data = []\n",
    "    for i in range(n):\n",
    "        usuario = random.choice(usuarios)\n",
    "        producto = random.choice(productos)\n",
    "        cantidad = random.randint(1, 5)\n",
    "        data.append({\n",
    "            'id_pedido': 3000 + i,\n",
    "            'id_usuario': usuario['id_usuario'],\n",
    "            'id_producto': producto['id_producto'],\n",
    "            'cantidad': cantidad,\n",
    "            'monto': round(cantidad * producto['precio_unitario'], 2) # Inferido como DoubleType\n",
    "        })\n",
    "    return data\n",
    "\n",
    "# --- CREACIÓN DE DATAFRAMES EN MEMORIA ---\n",
    "print(\"Generando DataFrames en memoria...\")\n",
    "usuarios_data = generar_usuarios()\n",
    "productos_data = generar_productos()\n",
    "pedidos_data = generar_pedidos(usuarios_data, productos_data)\n",
    "\n",
    "usuarios_df = spark.createDataFrame(usuarios_data)\n",
    "productos_df = spark.createDataFrame(productos_data)\n",
    "pedidos_df = spark.createDataFrame(pedidos_data)\n",
    "\n",
    "print(\"DataFrames generados exitosamente.\")"
   ]
  },
  {
   "cell_type": "markdown",
   "metadata": {
    "application/vnd.databricks.v1+cell": {
     "cellMetadata": {},
     "inputWidgets": {},
     "nuid": "e93eaf49-262d-4fe5-aa6a-3676a66b5d88",
     "showTitle": false,
     "tableResultSettingsMap": {},
     "title": ""
    }
   },
   "source": [
    "### **Ingesta a la Capa Bronce y el Error Común de Esquema**\n",
    "\n",
    "Ahora, se persistirán estos datos crudos en tablas Delta, nuestra capa **Bronce**.\n",
    "\n",
    "Aquí es donde a menudo surge el error `DELTA_FAILED_TO_MERGE_FIELDS`. Este error ocurre si se intenta sobrescribir una tabla Delta con datos que tienen un tipo de dato diferente en una columna. Por ejemplo, si PySpark infiere `precio_unitario` como `DOUBLE` la primera vez, y en una ejecución posterior, un `CAST` explícito intenta escribirlo como `DECIMAL`, Delta arrojará este error para proteger la integridad del esquema.\n",
    "\n",
    "**La Solución:** Para permitir que Delta actualice el esquema de la tabla de forma segura, se utiliza la opción `mergeSchema`.\n",
    "\n",
    "-----\n",
    "\n",
    "### **Persistencia en la Capa Bronce con Evolución de Esquema**\n",
    "\n",
    "**Acción:** Se guardan los DataFrames como tablas Delta. Se añade `.option(\"mergeSchema\", \"true\")` para evitar errores de esquema si el cuaderno se ejecuta varias veces con ligeros cambios en los tipos de datos."
   ]
  },
  {
   "cell_type": "code",
   "execution_count": 0,
   "metadata": {
    "application/vnd.databricks.v1+cell": {
     "cellMetadata": {
      "byteLimit": 2048000,
      "rowLimit": 10000
     },
     "inputWidgets": {},
     "nuid": "08ee13bb-b546-491b-8bc1-4ffcb9872375",
     "showTitle": false,
     "tableResultSettingsMap": {},
     "title": ""
    }
   },
   "outputs": [],
   "source": [
    "# Persistiendo los DataFrames como Tablas Delta en la Capa Bronce\n",
    "db_name = \"curso_arquitecturas\"\n",
    "spark.sql(f\"CREATE DATABASE IF NOT EXISTS {db_name}\")\n",
    "spark.sql(f\"USE {db_name}\")\n",
    "\n",
    "print(f\"Usando la base de datos: '{db_name}'\")\n",
    "\n",
    "# Se usa .option(\"mergeSchema\", \"true\") como buena práctica para la evolución del esquema\n",
    "usuarios_df.write.format(\"delta\").option(\"mergeSchema\", \"true\").mode(\"overwrite\").saveAsTable(\"usuarios_bronze\")\n",
    "productos_df.write.format(\"delta\").option(\"mergeSchema\", \"true\").mode(\"overwrite\").saveAsTable(\"productos_bronze\")\n",
    "pedidos_df.write.format(\"delta\").option(\"mergeSchema\", \"true\").mode(\"overwrite\").saveAsTable(\"pedidos_bronze\")\n",
    "\n",
    "print(\"Tablas Bronze creadas/actualizadas exitosamente.\")"
   ]
  },
  {
   "cell_type": "markdown",
   "metadata": {
    "application/vnd.databricks.v1+cell": {
     "cellMetadata": {},
     "inputWidgets": {},
     "nuid": "4511a552-0363-46bf-9456-cc9c77a6e9fb",
     "showTitle": false,
     "tableResultSettingsMap": {},
     "title": ""
    }
   },
   "source": [
    "### **Transformación a la Capa Plata (Silver)**\n",
    "\n",
    "**Acción:** Con los datos crudos en la capa Bronce, se procede a limpiarlos y estructurarlos en la capa **Plata**. Aquí se realizan conversiones de tipo explícitas (`CAST`) para asegurar la calidad y consistencia de los datos para el análisis.\n"
   ]
  },
  {
   "cell_type": "code",
   "execution_count": 0,
   "metadata": {
    "application/vnd.databricks.v1+cell": {
     "cellMetadata": {
      "byteLimit": 2048000,
      "implicitDf": true,
      "rowLimit": 10000
     },
     "inputWidgets": {},
     "nuid": "860cbcc8-f1fc-43ef-9cb5-ba9820a9ddd6",
     "showTitle": false,
     "tableResultSettingsMap": {},
     "title": ""
    }
   },
   "outputs": [],
   "source": [
    "%sql\n",
    "-- Creación de las tablas Silver a partir de Bronze\n",
    "USE curso_arquitecturas;\n",
    "\n",
    "CREATE OR REPLACE TABLE usuarios_silver AS\n",
    "SELECT \n",
    "  id_usuario, \n",
    "  nombre AS nombre_usuario, \n",
    "  email, \n",
    "  fecha_registro, \n",
    "  ciudad \n",
    "FROM usuarios_bronze \n",
    "WHERE id_usuario IS NOT NULL;\n",
    "\n",
    "CREATE OR REPLACE TABLE productos_silver AS\n",
    "SELECT \n",
    "  id_producto, \n",
    "  nombre_producto, \n",
    "  categoria, \n",
    "  CAST(precio_unitario AS DECIMAL(10, 2)) as precio_unitario -- Se define un tipo de dato explícito y correcto\n",
    "FROM productos_bronze \n",
    "WHERE id_producto IS NOT NULL;\n",
    "\n",
    "CREATE OR REPLACE TABLE pedidos_silver AS\n",
    "SELECT \n",
    "  id_pedido, \n",
    "  id_usuario, \n",
    "  id_producto, \n",
    "  cantidad, \n",
    "  CAST(monto AS DECIMAL(18, 2)) AS monto_total, -- Se define un tipo de dato explícito\n",
    "  fecha_pedido AS ts_pedido\n",
    "FROM pedidos_bronze \n",
    "WHERE id_pedido IS NOT NULL;"
   ]
  },
  {
   "cell_type": "markdown",
   "metadata": {
    "application/vnd.databricks.v1+cell": {
     "cellMetadata": {},
     "inputWidgets": {},
     "nuid": "61ea962a-1695-40ba-9a82-3712481663dd",
     "showTitle": false,
     "tableResultSettingsMap": {},
     "title": ""
    }
   },
   "source": [
    "### **El Problema de Negocio: Clientes de Alto Valor**\n",
    "\n",
    "**Contexto:** El equipo de marketing necesita identificar a los **\"clientes de alto valor\"**, definidos como aquellos cuyo gasto total está por encima del gasto promedio de todos los clientes.\n",
    "\n",
    "-----\n",
    "\n",
    "### **La \"Mala\" Solución: El Infierno de las Subconsultas 👹**\n",
    "\n",
    "**Análisis:** Este es un enfoque común para resolver el problema, pero anida la lógica de manera que se vuelve difícil de leer, depurar y, lo que es peor, repite código.\n",
    "\n"
   ]
  },
  {
   "cell_type": "code",
   "execution_count": 0,
   "metadata": {
    "application/vnd.databricks.v1+cell": {
     "cellMetadata": {
      "byteLimit": 2048000,
      "implicitDf": true,
      "rowLimit": 10000
     },
     "inputWidgets": {},
     "nuid": "ada311d1-bc7f-4498-bd31-057bab4c356e",
     "showTitle": false,
     "tableResultSettingsMap": {},
     "title": ""
    }
   },
   "outputs": [],
   "source": [
    "%sql\n",
    "-- La \"Mala\" Solución con subconsultas anidadas\n",
    "SELECT\n",
    "  u.id_usuario,\n",
    "  u.nombre_usuario,\n",
    "  TotalGastadoPorCliente.GastoTotal\n",
    "FROM\n",
    "  usuarios_silver u\n",
    "  JOIN (\n",
    "    -- Subconsulta 1: Calcula el gasto total de cada cliente.\n",
    "    SELECT id_usuario, SUM(monto_total) AS GastoTotal\n",
    "    FROM pedidos_silver\n",
    "    GROUP BY id_usuario\n",
    "  ) AS TotalGastadoPorCliente ON u.id_usuario = TotalGastadoPorCliente.id_usuario\n",
    "WHERE\n",
    "  TotalGastadoPorCliente.GastoTotal > (\n",
    "    -- Subconsulta 2: Calcula el gasto promedio... ¡repitiendo la lógica interna!\n",
    "    SELECT AVG(GastoTotal)\n",
    "    FROM (\n",
    "        SELECT SUM(monto_total) AS GastoTotal\n",
    "        FROM pedidos_silver\n",
    "        GROUP BY id_usuario\n",
    "    ) AS GastoPromedio\n",
    "  );"
   ]
  },
  {
   "cell_type": "markdown",
   "metadata": {
    "application/vnd.databricks.v1+cell": {
     "cellMetadata": {},
     "inputWidgets": {},
     "nuid": "23d1cbbd-2ffb-4137-ae2d-a29fecebe67c",
     "showTitle": false,
     "tableResultSettingsMap": {},
     "title": ""
    }
   },
   "source": [
    "### **¿Por Qué es una \"Mala\" Solución?**\n",
    "\n",
    "El código anterior es ineficiente y propenso a errores por tres razones principales:\n",
    "\n",
    "1.  **Ilegibilidad:** La lógica no es secuencial. Para entenderla, es necesario \"desenrollar\" las consultas desde adentro hacia afuera.\n",
    "2.  **Difícil de Depurar:** Aislar y probar una de las subconsultas internas requiere copiar y pegar, lo cual es tedioso.\n",
    "3.  **Repetición de Código (No es DRY):** La lógica para calcular el gasto total por cliente se escribe dos veces. Un cambio en la definición de \"gasto\" requeriría modificar dos partes del código.\n",
    "\n",
    "-----\n",
    "\n",
    "### **La \"Buena\" Solución: Dominando los CTEs ✨**\n",
    "\n",
    "**Análisis:** Se refactoriza la consulta usando CTEs. La cláusula `WITH` introduce bloques de construcción lógicos y nombrados, haciendo que la consulta se lea como una receta."
   ]
  },
  {
   "cell_type": "code",
   "execution_count": 0,
   "metadata": {
    "application/vnd.databricks.v1+cell": {
     "cellMetadata": {
      "byteLimit": 2048000,
      "implicitDf": true,
      "rowLimit": 10000
     },
     "inputWidgets": {},
     "nuid": "2956b18c-0a0f-4b56-a70b-53fd1881466f",
     "showTitle": false,
     "tableResultSettingsMap": {},
     "title": ""
    }
   },
   "outputs": [],
   "source": [
    "%sql\n",
    "-- La \"Buena\" Solución con CTEs\n",
    "WITH GastoPorCliente AS (\n",
    "  -- Paso 1: Se calcula el gasto total por cliente y se nombra el resultado \"GastoPorCliente\".\n",
    "  SELECT\n",
    "    id_usuario,\n",
    "    SUM(monto_total) AS GastoTotal\n",
    "  FROM pedidos_silver\n",
    "  GROUP BY id_usuario\n",
    "),\n",
    "PromedioGeneral AS (\n",
    "  -- Paso 2: Se reutiliza el CTE anterior para calcular el promedio general. Sin repetir código.\n",
    "  SELECT AVG(GastoTotal) AS GastoPromedio\n",
    "  FROM GastoPorCliente\n",
    ")\n",
    "-- Paso 3: La consulta final es ahora simple y clara.\n",
    "SELECT\n",
    "  u.id_usuario,\n",
    "  u.nombre_usuario,\n",
    "  gpc.GastoTotal\n",
    "FROM usuarios_silver u\n",
    "JOIN GastoPorCliente gpc ON u.id_usuario = gpc.id_usuario\n",
    "-- Se cruza con el promedio para filtrar\n",
    "CROSS JOIN PromedioGeneral\n",
    "WHERE gpc.GastoTotal > PromedioGeneral.GastoPromedio\n",
    "ORDER BY gpc.GastoTotal DESC;"
   ]
  },
  {
   "cell_type": "markdown",
   "metadata": {
    "application/vnd.databricks.v1+cell": {
     "cellMetadata": {},
     "inputWidgets": {},
     "nuid": "a86e041a-91f8-4f80-822e-344927fb338b",
     "showTitle": false,
     "tableResultSettingsMap": {},
     "title": ""
    }
   },
   "source": [
    "### **Anatomía de un Common Table Expression**\n",
    "\n",
    "La sintaxis de un CTE es simple y poderosa. Es una de las herramientas más importantes para organizar el código SQL.\n",
    "\n",
    "```sql\n",
    "WITH \n",
    "  nombre_cte_1 AS (\n",
    "    -- SELECT que define el primer bloque lógico\n",
    "  ),\n",
    "  nombre_cte_2 AS (\n",
    "    -- SELECT que define el segundo bloque, puede usar el primero\n",
    "  )\n",
    "-- SELECT principal que usa los CTEs como si fueran tablas\n",
    "SELECT ... FROM nombre_cte_1 JOIN nombre_cte_2 ON ...;\n",
    "```\n",
    "\n",
    "  * **`WITH`**: Inicia la declaración de CTEs.\n",
    "  * **`nombre_cte AS (...)`**: Define un resultado temporal con un nombre.\n",
    "  * **Coma (`,`)**: Separa las definiciones de múltiples CTEs.\n",
    "  * **Consulta Principal**: La sentencia `SELECT` final que orquesta los resultados de los CTEs.\n",
    "\n",
    "-----\n",
    "\n",
    "### **El Flujo de Datos en un CTE**\n",
    "\n",
    "Visualmente, se puede pensar en los CTEs como una tubería de datos. Cada CTE toma datos, los procesa y pasa el resultado al siguiente paso, hasta llegar a la consulta final.\n",
    "\n",
    "**Datos Crudos (`pedidos_silver`)** → **CTE `GastoPorCliente`** → **CTE `PromedioGeneral`** → **Resultado Final**\n",
    "\n",
    "Esta estructura secuencial es la razón por la que el código se vuelve tan intuitivo.\n",
    "\n",
    "-----\n",
    "\n",
    "### **Ejemplo Adicional: CTEs con JOINs Internos**\n",
    "\n",
    "Un CTE no es solo para agregaciones. Puede contener cualquier lógica, incluyendo `JOINs`.\n",
    "\n",
    "**Problema:** Se quiere saber el total de ventas por **categoría de producto**.\n",
    "\n"
   ]
  },
  {
   "cell_type": "code",
   "execution_count": 0,
   "metadata": {
    "application/vnd.databricks.v1+cell": {
     "cellMetadata": {
      "byteLimit": 2048000,
      "implicitDf": true,
      "rowLimit": 10000
     },
     "inputWidgets": {},
     "nuid": "568997db-99db-4947-8756-8d643613f588",
     "showTitle": false,
     "tableResultSettingsMap": {},
     "title": ""
    }
   },
   "outputs": [],
   "source": [
    "%sql\n",
    "WITH VentasConCategoria AS (\n",
    "  -- En este CTE, se unen pedidos y productos para enriquecer cada venta con su categoría.\n",
    "  SELECT\n",
    "    p.monto_total,\n",
    "    pr.categoria\n",
    "  FROM\n",
    "    pedidos_silver p\n",
    "    JOIN productos_silver pr ON p.id_producto = pr.id_producto\n",
    ")\n",
    "-- La consulta final es ahora muy simple, porque el trabajo complejo se hizo en el CTE.\n",
    "SELECT\n",
    "  categoria,\n",
    "  SUM(monto_total) AS VentasTotales,\n",
    "  COUNT(*) AS NumeroDePedidos\n",
    "FROM\n",
    "  VentasConCategoria\n",
    "GROUP BY\n",
    "  categoria\n",
    "ORDER BY\n",
    "  VentasTotales DESC;"
   ]
  },
  {
   "cell_type": "markdown",
   "metadata": {
    "application/vnd.databricks.v1+cell": {
     "cellMetadata": {},
     "inputWidgets": {},
     "nuid": "e93cf88c-d7e2-4248-9a16-ed4b8b5343b1",
     "showTitle": false,
     "tableResultSettingsMap": {},
     "title": ""
    }
   },
   "source": [
    "### **Momento de Práctica 🏋️**\n",
    "\n",
    "Ahora es el turno del participante. Se resolverá un nuevo problema de negocio usando lo aprendido.\n",
    "\n",
    "**Problema:** Se necesita un reporte que muestre, para cada **ciudad**, el número de **clientes únicos** que han realizado pedidos y el **monto total** gastado por los clientes de esa ciudad.\n",
    "\n",
    "**Requerimiento:** Escribir una consulta usando CTEs que devuelva `ciudad`, `numero_clientes` y `gasto_total_ciudad`.\n",
    "\n",
    "**Pistas:**\n",
    "\n",
    "1.  Se necesitará unir `pedidos_silver` y `usuarios_silver`.\n",
    "2.  Un buen primer CTE podría agregar los pedidos para obtener el gasto total por `id_usuario`.\n",
    "3.  La consulta final puede unir ese resultado con `usuarios_silver` para agrupar por `ciudad`.\n",
    "\n",
    "-----\n",
    "\n",
    "### **Espacio para la Solución del Participante**\n"
   ]
  },
  {
   "cell_type": "code",
   "execution_count": 0,
   "metadata": {
    "application/vnd.databricks.v1+cell": {
     "cellMetadata": {},
     "inputWidgets": {},
     "nuid": "57d7d747-2bd4-4690-92a0-53012e055b9b",
     "showTitle": false,
     "tableResultSettingsMap": {},
     "title": ""
    }
   },
   "outputs": [],
   "source": [
    "%sql\n",
    "-- El participante escribe su solución aquí..."
   ]
  },
  {
   "cell_type": "markdown",
   "metadata": {
    "application/vnd.databricks.v1+cell": {
     "cellMetadata": {},
     "inputWidgets": {},
     "nuid": "848adc25-2d0e-49d7-867e-2d909728da65",
     "showTitle": false,
     "tableResultSettingsMap": {},
     "title": ""
    }
   },
   "source": [
    "### **¿Cuándo NO usar un CTE?**\n",
    "\n",
    "Aunque los CTEs son fantásticos, no son una solución universal. Hay un punto importante a considerar:\n",
    "\n",
    "**Optimización:** Un CTE se re-calcula cada vez que se referencia en la consulta principal. Si se tiene un CTE muy costoso y se llama múltiples veces, su lógica se ejecutará múltiples veces. En esos casos, una **vista temporal (`CREATE TEMP VIEW`)** puede ser más eficiente, ya que materializa el resultado una vez y lo reutiliza.\n"
   ]
  },
  {
   "cell_type": "code",
   "execution_count": 0,
   "metadata": {
    "application/vnd.databricks.v1+cell": {
     "cellMetadata": {
      "byteLimit": 2048000,
      "implicitDf": true,
      "rowLimit": 10000
     },
     "inputWidgets": {},
     "nuid": "55533bbd-5135-47ca-8bd6-e56fa37a44f0",
     "showTitle": false,
     "tableResultSettingsMap": {},
     "title": ""
    }
   },
   "outputs": [],
   "source": [
    "%sql\n",
    "-- Ejemplo de Vista Temporal (Alternativa para CTEs costosos y reutilizados)\n",
    "\n",
    "-- Paso 1: Se materializa el resultado. Esto se calcula UNA SOLA VEZ.\n",
    "CREATE OR REPLACE TEMP VIEW GastoPorCliente_temp AS\n",
    "SELECT\n",
    "  id_usuario,\n",
    "  SUM(monto_total) AS GastoTotal\n",
    "FROM\n",
    "  pedidos_silver\n",
    "GROUP BY\n",
    "  id_usuario;\n",
    "\n",
    "-- Paso 2: Ahora se puede usar la vista temporal como una tabla.\n",
    "-- Si se usara en múltiples JOINs, el cálculo no se repetiría.\n",
    "SELECT * FROM GastoPorCliente_temp LIMIT 10;"
   ]
  },
  {
   "cell_type": "markdown",
   "metadata": {
    "application/vnd.databricks.v1+cell": {
     "cellMetadata": {},
     "inputWidgets": {},
     "nuid": "fbccff6d-4975-4c5b-b8f0-a669af3ac223",
     "showTitle": false,
     "tableResultSettingsMap": {},
     "title": ""
    }
   },
   "source": [
    "\n",
    "### **Resumen del Módulo**\n",
    "\n",
    "Se ha completado el módulo. El participante ahora cuenta con una herramienta fundamental en su arsenal de SQL.\n",
    "\n",
    "**Ideas Clave:**\n",
    "\n",
    "  * **CTEs (`WITH ... AS`)** transforman subconsultas anidadas en bloques de código secuenciales y legibles.\n",
    "  * **Mejoran la Mantenibilidad:** Facilitan la lectura, depuración y modificación del código.\n",
    "  * **Promueven la Lógica Paso a Paso:** Permiten construir consultas complejas como si fueran una receta.\n",
    "  * **No son una Panacea:** Para lógica muy costosa que se reutiliza varias veces, una `TEMP VIEW` puede ser más performante.\n",
    "\n",
    "-----\n",
    "\n",
    "### **Próximos Pasos**\n",
    "\n",
    "En el siguiente módulo, **\"Más Allá del `GROUP BY`: Desbloqueando Análisis con Funciones de Ventana\"**, se llevará el análisis a otro nivel, aprendiendo a realizar cálculos sobre conjuntos de filas, como rankings, diferencias temporales y promedios móviles, sin necesidad de complejos `self-joins`."
   ]
  },
  {
   "cell_type": "markdown",
   "metadata": {
    "application/vnd.databricks.v1+cell": {
     "cellMetadata": {
      "byteLimit": 2048000,
      "rowLimit": 10000
     },
     "inputWidgets": {},
     "nuid": "884b369e-1a68-45ca-88f6-6b2c6bb6f6dd",
     "showTitle": false,
     "tableResultSettingsMap": {},
     "title": ""
    }
   },
   "source": [
    "---"
   ]
  },
  {
   "cell_type": "markdown",
   "metadata": {
    "application/vnd.databricks.v1+cell": {
     "cellMetadata": {},
     "inputWidgets": {},
     "nuid": "58cb3a60-f166-40f9-87b7-573dd6387d70",
     "showTitle": false,
     "tableResultSettingsMap": {},
     "title": ""
    }
   },
   "source": [
    "### **Solución del Ejercicio de Ciudades**\n",
    "\n",
    "Aquí se presenta una forma de resolver el problema.\n"
   ]
  },
  {
   "cell_type": "code",
   "execution_count": 0,
   "metadata": {
    "application/vnd.databricks.v1+cell": {
     "cellMetadata": {},
     "inputWidgets": {},
     "nuid": "dda7f3e6-6c82-4205-99fa-5aa7e95909ef",
     "showTitle": false,
     "tableResultSettingsMap": {},
     "title": ""
    }
   },
   "outputs": [],
   "source": [
    "%sql\n",
    "---- Solución del Ejercicio de Ciudades\n",
    "\n",
    "WITH GastoPorCliente AS (\n",
    "  -- Paso 1: Se calcula el gasto total por cada cliente.\n",
    "  SELECT\n",
    "    id_usuario,\n",
    "    SUM(monto_total) AS GastoTotal\n",
    "  FROM\n",
    "    pedidos_silver\n",
    "  GROUP BY\n",
    "    id_usuario\n",
    ")\n",
    "-- Paso 2: Se unen los gastos con la información de los usuarios y se agrupa por ciudad.\n",
    "SELECT\n",
    "  u.ciudad,\n",
    "  COUNT(DISTINCT u.id_usuario) AS numero_clientes,\n",
    "  SUM(gpc.GastoTotal) AS gasto_total_ciudad\n",
    "FROM\n",
    "  usuarios_silver u\n",
    "  JOIN GastoPorCliente gpc ON u.id_usuario = gpc.id_usuario\n",
    "GROUP BY\n",
    "  u.ciudad\n",
    "ORDER BY\n",
    "  gasto_total_ciudad DESC;"
   ]
  }
 ],
 "metadata": {
  "application/vnd.databricks.v1+notebook": {
   "computePreferences": {
    "hardware": {
     "accelerator": null,
     "gpuPoolId": null,
     "memory": null
    }
   },
   "dashboards": [],
   "environmentMetadata": {
    "base_environment": "",
    "dependencies": [
     "faker"
    ],
    "environment_version": "3"
   },
   "inputWidgetPreferences": null,
   "language": "python",
   "notebookMetadata": {
    "mostRecentlyExecutedCommandWithImplicitDF": {
     "commandId": 7887307683622108,
     "dataframes": [
      "_sqldf"
     ]
    },
    "pythonIndentUnit": 4
   },
   "notebookName": "Cuaderno 1: Dominando Common Table Expressions (CTEs)",
   "widgets": {}
  },
  "language_info": {
   "name": "python"
  }
 },
 "nbformat": 4,
 "nbformat_minor": 0
}
