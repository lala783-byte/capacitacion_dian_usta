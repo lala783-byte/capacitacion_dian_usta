{
 "cells": [
  {
   "cell_type": "markdown",
   "metadata": {
    "application/vnd.databricks.v1+cell": {
     "cellMetadata": {},
     "inputWidgets": {},
     "nuid": "6e857728-ba6a-49f0-8609-d76e0688e981",
     "showTitle": false,
     "tableResultSettingsMap": {},
     "title": ""
    }
   },
   "source": [
    "### **Cuaderno: Módulo 2 - Más Allá del `GROUP BY`: Desbloqueando Análisis con Funciones de Ventana**\n",
    "\n",
    "**Objetivo del Módulo:** Al finalizar este cuaderno, los participantes dominarán el uso de funciones de ventana para realizar cálculos sobre conjuntos de filas relacionadas. Podrán calcular rankings (`RANK`, `DENSE_RANK`), análisis de series temporales (`LEAD`, `LAG`) y agregados móviles de manera eficiente, eliminando la necesidad de costosos `self-joins`."
   ]
  },
  {
   "cell_type": "markdown",
   "metadata": {
    "application/vnd.databricks.v1+cell": {
     "cellMetadata": {},
     "inputWidgets": {},
     "nuid": "74afef9a-d56c-4c31-947e-4e96f5f41b6c",
     "showTitle": false,
     "tableResultSettingsMap": {},
     "title": ""
    }
   },
   "source": [
    "#### **Configuración del Entorno y Datos**\n",
    "\n",
    "**Objetivo:** Primero, se necesita un entorno de datos robusto. Este script asegura que la base de datos `curso_arquitecturas` esté en uso y que las tablas `usuarios_silver`, `productos_silver`, `pedidos_silver` y `dim_fecha` estén disponibles y pobladas con datos consistentes.\n",
    "\n",
    "**Acción:** Ejecutar la siguiente celda de código para preparar el entorno para los ejercicios del módulo.\n"
   ]
  },
  {
   "cell_type": "code",
   "execution_count": 0,
   "metadata": {
    "application/vnd.databricks.v1+cell": {
     "cellMetadata": {
      "byteLimit": 2048000,
      "rowLimit": 10000
     },
     "inputWidgets": {},
     "nuid": "fb4a73cf-b8f5-4d9a-806d-d8281d4bc9ab",
     "showTitle": false,
     "tableResultSettingsMap": {},
     "title": ""
    }
   },
   "outputs": [],
   "source": [
    "# Celda 1: Script para generar y configurar el conjunto de datos del taller\n",
    "from pyspark.sql import SparkSession\n",
    "from pyspark.sql.types import DecimalType # Importante: Importar el tipo de dato necesario\n",
    "from faker import Faker\n",
    "import random\n",
    "from datetime import datetime, timedelta\n",
    "\n",
    "# --- SEMILLA PARA REPRODUCIBILIDAD ---\n",
    "# Garantiza que los datos generados sean siempre los mismos.\n",
    "SEED = 2025\n",
    "Faker.seed(SEED)\n",
    "random.seed(SEED)\n",
    "\n",
    "# Inicializar Faker\n",
    "fake = Faker('es_ES')\n",
    "\n",
    "# --- FUNCIONES DE GENERACIÓN DE DATOS ---\n",
    "def generar_usuarios(n=1000):\n",
    "    \"\"\"Genera una lista de diccionarios de usuarios.\"\"\"\n",
    "    return [{'id_usuario': 1000 + i, 'nombre': fake.name(), 'email': fake.email(), 'fecha_registro': fake.date_time_between(start_date='-2y'), 'ciudad': fake.city()} for i in range(n)]\n",
    "\n",
    "def generar_productos(n=500):\n",
    "    \"\"\"Genera una lista de productos.\"\"\"\n",
    "    categorias = ['Electrónica', 'Hogar', 'Ropa', 'Libros', 'Deportes', 'Juguetes', 'Alimentos']\n",
    "    data = []\n",
    "    for i in range(n):\n",
    "        data.append({\n",
    "            'id_producto': 2000 + i,\n",
    "            'nombre_producto': fake.word().capitalize() + \" \" + fake.word(),\n",
    "            'categoria': random.choice(categorias),\n",
    "            'precio_unitario': round(random.uniform(5.0, 350.0), 2)\n",
    "        })\n",
    "    return data\n",
    "\n",
    "def generar_pedidos(usuarios, productos, n=10000):\n",
    "    \"\"\"Genera una lista de pedidos, vinculando usuarios y productos.\"\"\"\n",
    "    data = []\n",
    "    for i in range(n):\n",
    "        usuario = random.choice(usuarios)\n",
    "        producto = random.choice(productos)\n",
    "        cantidad = random.randint(1, 5)\n",
    "        data.append({\n",
    "            'id_pedido': 3000 + i,\n",
    "            'id_usuario': usuario['id_usuario'],\n",
    "            'id_producto': producto['id_producto'],\n",
    "            'cantidad': cantidad,\n",
    "            'monto': round(cantidad * producto['precio_unitario'], 2),\n",
    "            'fecha_pedido': fake.date_time_between(start_date=usuario['fecha_registro'])\n",
    "        })\n",
    "    return data\n",
    "\n",
    "# --- CREACIÓN DE DATAFRAMES ---\n",
    "print(\"Generando datos simulados...\")\n",
    "usuarios_data = generar_usuarios()\n",
    "productos_data = generar_productos()\n",
    "pedidos_data = generar_pedidos(usuarios_data, productos_data)\n",
    "\n",
    "usuarios_df = spark.createDataFrame(usuarios_data)\n",
    "productos_df = spark.createDataFrame(productos_data)\n",
    "pedidos_df = spark.createDataFrame(pedidos_data)\n",
    "\n",
    "# --- CREACIÓN DE BASE DE DATOS Y TABLAS SILVER ---\n",
    "db_name = \"curso_arquitecturas\"\n",
    "spark.sql(f\"CREATE DATABASE IF NOT EXISTS {db_name}\")\n",
    "spark.sql(f\"USE {db_name}\")\n",
    "\n",
    "print(f\"Usando la base de datos: '{db_name}'\")\n",
    "\n",
    "# Guardar usuarios\n",
    "usuarios_df.selectExpr(\"id_usuario\", \"nombre as nombre_usuario\", \"email\", \"fecha_registro\", \"ciudad\") \\\n",
    "    .write.format(\"delta\").mode(\"overwrite\").option(\"overwriteSchema\", \"true\").saveAsTable(\"usuarios_silver\")\n",
    "\n",
    "# ==================== LA CORRECCIÓN ESTÁ AQUÍ ====================\n",
    "# 1. Definimos explícitamente el tipo de dato para 'precio_unitario' antes de escribir.\n",
    "productos_df_casteado = productos_df.withColumn(\"precio_unitario\", productos_df[\"precio_unitario\"].cast(DecimalType(10, 2)))\n",
    "\n",
    "# 2. Escribimos el DataFrame corregido, permitiendo la sobreescritura del esquema para robustez.\n",
    "productos_df_casteado.write.format(\"delta\").mode(\"overwrite\").option(\"overwriteSchema\", \"true\").saveAsTable(\"productos_silver\")\n",
    "# =================================================================\n",
    "\n",
    "# Convertimos el DataFrame de pedidos a una tabla SQL temporal para poder usar funciones SQL\n",
    "pedidos_df.createOrReplaceTempView(\"pedidos_temp\")\n",
    "\n",
    "# Guardar pedidos con el esquema bien definido usando SQL\n",
    "spark.sql(\"\"\"\n",
    "CREATE OR REPLACE TABLE pedidos_silver AS\n",
    "SELECT \n",
    "  id_pedido, \n",
    "  id_usuario, \n",
    "  id_producto, \n",
    "  cantidad, \n",
    "  CAST(monto AS DECIMAL(18, 2)) AS monto_total, \n",
    "  fecha_pedido AS ts_pedido,\n",
    "  TO_DATE(fecha_pedido) as id_fecha \n",
    "FROM pedidos_temp\n",
    "\"\"\")\n",
    "\n",
    "# --- CREACIÓN DE DIM_FECHA ---\n",
    "spark.sql(\"\"\"\n",
    "CREATE OR REPLACE TABLE dim_fecha (\n",
    "  id_fecha DATE NOT NULL, anio INT, mes INT, dia INT, trimestre INT,\n",
    "  nombre_mes STRING, nombre_dia_semana STRING, tipo_dia STRING\n",
    ");\n",
    "\"\"\")\n",
    "spark.sql(\"\"\"\n",
    "INSERT INTO dim_fecha\n",
    "SELECT\n",
    "  fecha AS id_fecha, YEAR(fecha) AS anio, MONTH(fecha) AS mes, DAY(fecha) AS dia,\n",
    "  QUARTER(fecha) AS trimestre, DATE_FORMAT(fecha, 'MMMM') AS nombre_mes,\n",
    "  DATE_FORMAT(fecha, 'EEEE') AS nombre_dia_semana,\n",
    "  CASE WHEN DAYOFWEEK(fecha) IN (1, 7) THEN 'Fin de Semana' ELSE 'Día de Semana' END AS tipo_dia\n",
    "FROM (SELECT EXPLODE(SEQUENCE(TO_DATE('2022-01-01'), TO_DATE('2026-12-31'), INTERVAL 1 DAY)) AS fecha);\n",
    "\"\"\")\n",
    "\n",
    "print(\"Tablas Silver y dim_fecha creadas/actualizadas exitosamente.\")\n",
    "print(\"\\n¡Entorno listo para el Módulo 2!\")"
   ]
  },
  {
   "cell_type": "markdown",
   "metadata": {
    "application/vnd.databricks.v1+cell": {
     "cellMetadata": {},
     "inputWidgets": {},
     "nuid": "a91a29bf-13e7-435d-946d-afd7b2fbb49b",
     "showTitle": false,
     "tableResultSettingsMap": {},
     "title": ""
    }
   },
   "source": [
    "#### **El Porqué (Problema de Negocio)**\n",
    "\n",
    "**Contexto:** El equipo de producto necesita realizar análisis más sofisticados que una simple agregación. Específicamente, quieren responder dos preguntas clave:\n",
    "\n",
    "1.  **Análisis de Crecimiento:** ¿Cómo varían las ventas de un producto de un mes a otro? Necesitan calcular el crecimiento porcentual mensual para cada producto.\n",
    "2.  **Ranking de Productos:** ¿Cuál fue el producto más vendido (por monto total) dentro de cada categoría, para cada mes?"
   ]
  },
  {
   "cell_type": "markdown",
   "metadata": {
    "application/vnd.databricks.v1+cell": {
     "cellMetadata": {},
     "inputWidgets": {},
     "nuid": "11a499b5-0ff5-45e8-8191-ac61bd662263",
     "showTitle": false,
     "tableResultSettingsMap": {},
     "title": ""
    }
   },
   "source": [
    "#### **La \"Mala\" Solución (Anti-Patrón con `SELF JOIN`)**\n",
    "\n",
    "**Análisis:** Para calcular el crecimiento mes a mes, la aproximación tradicional en SQL implica un `self-join`.\n",
    "\n",
    "**Problemas:**\n",
    "* **Complejidad:** La lógica del `JOIN` es difícil de escribir y entender.\n",
    "* **Rendimiento:** Los `self-joins` en tablas grandes son extremadamente costosos."
   ]
  },
  {
   "cell_type": "code",
   "execution_count": 0,
   "metadata": {
    "application/vnd.databricks.v1+cell": {
     "cellMetadata": {
      "byteLimit": 2048000,
      "implicitDf": true,
      "rowLimit": 10000
     },
     "inputWidgets": {},
     "nuid": "6198d17f-6905-4d63-9658-c0854ebfe80c",
     "showTitle": false,
     "tableResultSettingsMap": {},
     "title": ""
    }
   },
   "outputs": [],
   "source": [
    "%sql\n",
    "-- La \"Mala\" Solución para el crecimiento mes a mes\n",
    "WITH VentasMensuales AS (\n",
    "  SELECT\n",
    "    p.id_producto,\n",
    "    d.anio,\n",
    "    d.mes,\n",
    "    SUM(p.monto_total) AS ventas_mes\n",
    "  FROM pedidos_silver p\n",
    "  JOIN dim_fecha d ON p.id_fecha = d.id_fecha\n",
    "  GROUP BY p.id_producto, d.anio, d.mes\n",
    ")\n",
    "SELECT\n",
    "  actual.id_producto,\n",
    "  actual.anio,\n",
    "  actual.mes,\n",
    "  actual.ventas_mes,\n",
    "  anterior.ventas_mes AS ventas_mes_anterior\n",
    "FROM\n",
    "  VentasMensuales actual\n",
    "  LEFT JOIN VentasMensuales anterior ON actual.id_producto = anterior.id_producto\n",
    "  AND actual.anio = anterior.anio \n",
    "  AND actual.mes = anterior.mes + 1\n",
    "LIMIT 10;"
   ]
  },
  {
   "cell_type": "markdown",
   "metadata": {
    "application/vnd.databricks.v1+cell": {
     "cellMetadata": {},
     "inputWidgets": {},
     "nuid": "3794aea2-9f7a-43f4-b8dd-c40c04a62c6d",
     "showTitle": false,
     "tableResultSettingsMap": {},
     "title": ""
    }
   },
   "source": [
    "#### **Celda 5: La \"Buena\" Solución - Introduciendo las Funciones de Ventana**\n",
    "\n",
    "**Análisis:** Las funciones de ventana nos permiten realizar cálculos sobre un conjunto de filas (`la ventana`) que están relacionadas con la fila actual, sin tener que colapsar las filas como lo hace `GROUP BY`. Usamos `LAG` para \"mirar hacia atrás\" una fila."
   ]
  },
  {
   "cell_type": "code",
   "execution_count": 0,
   "metadata": {
    "application/vnd.databricks.v1+cell": {
     "cellMetadata": {
      "byteLimit": 2048000,
      "implicitDf": true,
      "rowLimit": 10000
     },
     "inputWidgets": {},
     "nuid": "c6138ccf-a515-495e-b942-851a75b0e424",
     "showTitle": false,
     "tableResultSettingsMap": {},
     "title": ""
    }
   },
   "outputs": [],
   "source": [
    "%sql\n",
    "-- La \"Buena\" Solución para el crecimiento mes a mes\n",
    "WITH VentasMensuales AS (\n",
    "  SELECT\n",
    "    p.id_producto,\n",
    "    d.anio,\n",
    "    d.mes,\n",
    "    SUM(p.monto_total) AS ventas_mes\n",
    "  FROM pedidos_silver p\n",
    "  JOIN dim_fecha d ON p.id_fecha = d.id_fecha\n",
    "  GROUP BY p.id_producto, d.anio, d.mes\n",
    ")\n",
    "SELECT\n",
    "  id_producto,\n",
    "  anio,\n",
    "  mes,\n",
    "  ventas_mes,\n",
    "  LAG(ventas_mes, 1, 0) OVER (PARTITION BY id_producto ORDER BY anio, mes) AS ventas_mes_anterior\n",
    "FROM\n",
    "  VentasMensuales\n",
    "ORDER BY\n",
    "  id_producto, anio, mes\n",
    "LIMIT 10;"
   ]
  },
  {
   "cell_type": "markdown",
   "metadata": {
    "application/vnd.databricks.v1+cell": {
     "cellMetadata": {},
     "inputWidgets": {},
     "nuid": "ee87153d-d5f5-453a-867b-2033e9f82ee3",
     "showTitle": false,
     "tableResultSettingsMap": {},
     "title": ""
    }
   },
   "source": [
    "#### **El \"Cómo Funciona\" - Anatomía de una Función de Ventana**\n",
    "\n",
    "`LAG(ventas_mes, 1, 0) OVER (PARTITION BY id_producto ORDER BY anio, mes)`\n",
    "\n",
    "1.  **`LAG(ventas_mes, 1, 0)`**: La función a aplicar.\n",
    "2.  **`OVER (...)`**: La cláusula que define la ventana.\n",
    "    * **`PARTITION BY id_producto`**: Divide los datos en grupos. Es el `GROUP BY` de las funciones de ventana.\n",
    "    * **`ORDER BY anio, mes`**: Ordena las filas *dentro* de cada grupo. Es **crucial** para `LAG`."
   ]
  },
  {
   "cell_type": "markdown",
   "metadata": {
    "application/vnd.databricks.v1+cell": {
     "cellMetadata": {},
     "inputWidgets": {},
     "nuid": "dcd29473-45be-4404-b62a-541433fea9a7",
     "showTitle": false,
     "tableResultSettingsMap": {},
     "title": ""
    }
   },
   "source": [
    "#### **Aplicando la Solución de Crecimiento Completa**\n",
    "\n",
    "Ahora que tenemos las ventas del mes anterior, podemos calcular fácilmente el crecimiento porcentual."
   ]
  },
  {
   "cell_type": "code",
   "execution_count": 0,
   "metadata": {
    "application/vnd.databricks.v1+cell": {
     "cellMetadata": {
      "byteLimit": 2048000,
      "implicitDf": true,
      "rowLimit": 10000
     },
     "inputWidgets": {},
     "nuid": "d9385109-850d-4ae7-b1f2-97eb2b8f302e",
     "showTitle": false,
     "tableResultSettingsMap": {},
     "title": ""
    }
   },
   "outputs": [],
   "source": [
    "%sql\n",
    "-- Celda 9: Solución completa con cálculo de crecimiento\n",
    "WITH VentasMensuales AS (\n",
    "  SELECT\n",
    "    p.id_producto,\n",
    "    d.anio,\n",
    "    d.mes,\n",
    "    SUM(p.monto_total) AS ventas_mes\n",
    "  FROM pedidos_silver p\n",
    "  JOIN dim_fecha d ON p.id_fecha = d.id_fecha\n",
    "  GROUP BY p.id_producto, d.anio, d.mes\n",
    "),\n",
    "VentasConMesAnterior AS (\n",
    "  SELECT\n",
    "    id_producto,\n",
    "    anio,\n",
    "    mes,\n",
    "    ventas_mes,\n",
    "    LAG(ventas_mes, 1, 0) OVER (PARTITION BY id_producto ORDER BY anio, mes) AS ventas_mes_anterior\n",
    "  FROM\n",
    "    VentasMensuales\n",
    ")\n",
    "SELECT\n",
    "  id_producto,\n",
    "  anio,\n",
    "  mes,\n",
    "  ventas_mes,\n",
    "  ventas_mes_anterior,\n",
    "  ROUND((ventas_mes - ventas_mes_anterior) / ventas_mes_anterior * 100, 2) AS crecimiento_pct\n",
    "FROM\n",
    "  VentasConMesAnterior\n",
    "WHERE\n",
    "  ventas_mes_anterior > 0\n",
    "ORDER BY\n",
    "  id_producto, anio, mes\n",
    "LIMIT 10;"
   ]
  },
  {
   "cell_type": "markdown",
   "metadata": {
    "application/vnd.databricks.v1+cell": {
     "cellMetadata": {},
     "inputWidgets": {},
     "nuid": "451d7354-e386-40a8-b4a8-21b1f8d45a3c",
     "showTitle": false,
     "tableResultSettingsMap": {},
     "title": ""
    }
   },
   "source": [
    "#### **Resolviendo el Segundo Problema - Ranking de Productos**\n",
    "\n",
    "**Contexto:** Ahora, se necesita identificar el producto más vendido (por monto) en cada categoría, cada mes."
   ]
  },
  {
   "cell_type": "markdown",
   "metadata": {
    "application/vnd.databricks.v1+cell": {
     "cellMetadata": {},
     "inputWidgets": {},
     "nuid": "273dd35c-e1ae-4924-98e5-3be56ed30783",
     "showTitle": false,
     "tableResultSettingsMap": {},
     "title": ""
    }
   },
   "source": [
    "#### **La \"Buena\" Solución con Funciones de Ranking**\n",
    "\n",
    "**Análisis:** Las funciones de ventana de ranking (`RANK`, `DENSE_RANK`, `ROW_NUMBER`) están diseñadas precisamente para este problema."
   ]
  },
  {
   "cell_type": "code",
   "execution_count": 0,
   "metadata": {
    "application/vnd.databricks.v1+cell": {
     "cellMetadata": {
      "byteLimit": 2048000,
      "implicitDf": true,
      "rowLimit": 10000
     },
     "inputWidgets": {},
     "nuid": "be6b7873-64d0-42b4-b0b6-23a87cb4d2ed",
     "showTitle": false,
     "tableResultSettingsMap": {},
     "title": ""
    }
   },
   "outputs": [],
   "source": [
    "%sql\n",
    "-- La \"Buena\" Solución para Ranking\n",
    "WITH VentasMensualesPorProducto AS (\n",
    "  SELECT\n",
    "    pr.categoria,\n",
    "    d.anio,\n",
    "    d.mes,\n",
    "    pr.nombre_producto,\n",
    "    SUM(p.monto_total) AS ventas_producto_mes\n",
    "  FROM pedidos_silver p\n",
    "  JOIN productos_silver pr ON p.id_producto = pr.id_producto\n",
    "  JOIN dim_fecha d ON p.id_fecha = d.id_fecha\n",
    "  GROUP BY pr.categoria, d.anio, d.mes, pr.nombre_producto\n",
    "),\n",
    "RankingDeVentas AS (\n",
    "  SELECT\n",
    "    categoria,\n",
    "    anio,\n",
    "    mes,\n",
    "    nombre_producto,\n",
    "    ventas_producto_mes,\n",
    "    RANK() OVER (PARTITION BY categoria, anio, mes ORDER BY ventas_producto_mes DESC) AS ranking\n",
    "  FROM\n",
    "    VentasMensualesPorProducto\n",
    ")\n",
    "SELECT\n",
    "  categoria,\n",
    "  anio,\n",
    "  mes,\n",
    "  nombre_producto,\n",
    "  ventas_producto_mes\n",
    "FROM\n",
    "  RankingDeVentas\n",
    "WHERE\n",
    "  ranking = 1\n",
    "ORDER BY\n",
    "  anio, mes, categoria;"
   ]
  },
  {
   "cell_type": "markdown",
   "metadata": {
    "application/vnd.databricks.v1+cell": {
     "cellMetadata": {},
     "inputWidgets": {},
     "nuid": "00c5dd08-743e-4da1-aee6-be57a3ce1309",
     "showTitle": false,
     "tableResultSettingsMap": {},
     "title": ""
    }
   },
   "source": [
    "#### **¡A Practicar! 🏋️**\n",
    "\n",
    "**Tu Tarea:** Escribe una consulta que, para cada pedido de cada cliente, calcule la **diferencia en días** entre la fecha de ese pedido y la fecha de su pedido **inmediatamente anterior**."
   ]
  },
  {
   "cell_type": "code",
   "execution_count": 0,
   "metadata": {
    "application/vnd.databricks.v1+cell": {
     "cellMetadata": {
      "byteLimit": 2048000,
      "rowLimit": 10000
     },
     "inputWidgets": {},
     "nuid": "bfedb065-e929-4433-88b7-b0ba9be06ecf",
     "showTitle": false,
     "tableResultSettingsMap": {},
     "title": ""
    }
   },
   "outputs": [],
   "source": [
    "%sql\n",
    "-- Celda 14: Escribe tu solución aquí..."
   ]
  },
  {
   "cell_type": "markdown",
   "metadata": {
    "application/vnd.databricks.v1+cell": {
     "cellMetadata": {},
     "inputWidgets": {},
     "nuid": "f461755e-88ff-45c7-aac5-5b8f7aa4e256",
     "showTitle": false,
     "tableResultSettingsMap": {},
     "title": ""
    }
   },
   "source": [
    "#### **Resumen del Módulo**\n",
    "\n",
    "**Ideas Clave:**\n",
    "* **Funciones de Ventana** realizan cálculos sobre un conjunto de filas (`la ventana`) sin colapsarlas.\n",
    "* **`OVER()`** es la cláusula que define la ventana.\n",
    "* **`PARTITION BY`** crea los grupos.\n",
    "* **`ORDER BY`** es crucial para ordenar las filas dentro de cada grupo."
   ]
  },
  {
   "cell_type": "markdown",
   "metadata": {
    "application/vnd.databricks.v1+cell": {
     "cellMetadata": {},
     "inputWidgets": {},
     "nuid": "46848de7-d5dc-4f4a-8806-f2cc2aa1b8e2",
     "showTitle": false,
     "tableResultSettingsMap": {},
     "title": ""
    }
   },
   "source": [
    "#### **Solución del Ejercicio de Frecuencia de Compra**"
   ]
  },
  {
   "cell_type": "code",
   "execution_count": 0,
   "metadata": {
    "application/vnd.databricks.v1+cell": {
     "cellMetadata": {
      "byteLimit": 2048000,
      "implicitDf": true,
      "rowLimit": 10000
     },
     "inputWidgets": {},
     "nuid": "98c72962-33c8-41fa-bdbf-c871c9734225",
     "showTitle": false,
     "tableResultSettingsMap": {},
     "title": ""
    }
   },
   "outputs": [],
   "source": [
    "%sql\n",
    "-- Celda 16: Solución del Ejercicio de Frecuencia de Compra\n",
    "WITH PedidosConFechaAnterior AS (\n",
    "  SELECT\n",
    "    id_usuario,\n",
    "    id_pedido,\n",
    "    ts_pedido,\n",
    "    LAG(ts_pedido, 1) OVER (PARTITION BY id_usuario ORDER BY ts_pedido) AS fecha_pedido_anterior\n",
    "  FROM\n",
    "    pedidos_silver\n",
    ")\n",
    "SELECT\n",
    "  id_usuario,\n",
    "  id_pedido,\n",
    "  ts_pedido,\n",
    "  DATEDIFF(ts_pedido, fecha_pedido_anterior) AS dias_desde_ultimo_pedido\n",
    "FROM\n",
    "  PedidosConFechaAnterior\n",
    "WHERE\n",
    "  id_usuario BETWEEN 1000 AND 1002 -- Limitar para una visualización clara\n",
    "ORDER BY\n",
    "  id_usuario, ts_pedido;"
   ]
  }
 ],
 "metadata": {
  "application/vnd.databricks.v1+notebook": {
   "computePreferences": {
    "hardware": {
     "accelerator": null,
     "gpuPoolId": null,
     "memory": null
    }
   },
   "dashboards": [],
   "environmentMetadata": {
    "base_environment": "",
    "dependencies": [
     "faker"
    ],
    "environment_version": "3"
   },
   "inputWidgetPreferences": null,
   "language": "python",
   "notebookMetadata": {
    "mostRecentlyExecutedCommandWithImplicitDF": {
     "commandId": 7887307683622129,
     "dataframes": [
      "_sqldf"
     ]
    },
    "pythonIndentUnit": 4
   },
   "notebookName": "Cuaderno 2: Análisis de Secuencias y Comparativas",
   "widgets": {}
  },
  "language_info": {
   "name": "python"
  }
 },
 "nbformat": 4,
 "nbformat_minor": 0
}
